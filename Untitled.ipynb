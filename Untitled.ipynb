{
 "cells": [
  {
   "cell_type": "markdown",
   "metadata": {},
   "source": [
    "# Implementations"
   ]
  },
  {
   "cell_type": "code",
   "execution_count": null,
   "metadata": {},
   "outputs": [],
   "source": [
    "# Write your k-means implementation here"
   ]
  },
  {
   "cell_type": "code",
   "execution_count": null,
   "metadata": {},
   "outputs": [],
   "source": [
    "# Write your k-medians implementation here"
   ]
  },
  {
   "cell_type": "markdown",
   "metadata": {},
   "source": [
    "# Problem 1: Dimensionality Reduction"
   ]
  },
  {
   "cell_type": "code",
   "execution_count": null,
   "metadata": {},
   "outputs": [],
   "source": [
    "# Data loading code to help you get started\n",
    "import pandas as pd\n",
    "\n",
    "arcene_df_train = pd.read_csv('https://archive.ics.uci.edu/ml/machine-learning-databases/'\n",
    "                              + 'arcene/ARCENE/arcene_train.data',\n",
    "                              delim_whitespace=True,\n",
    "                              header=None)\n",
    "arcene_df_test = pd.read_csv('https://archive.ics.uci.edu/ml/machine-learning-databases/'\n",
    "                             + 'arcene/ARCENE/arcene_test.data',\n",
    "                             delim_whitespace=True,\n",
    "                             header=None)\n",
    "arcene_df_valid = pd.read_csv('https://archive.ics.uci.edu/ml/machine-learning-databases/'\n",
    "                              + 'arcene/ARCENE/arcene_valid.data',\n",
    "                              delim_whitespace=True,\n",
    "                              header=None)\n",
    "arcene_df = pd.concat([arcene_df_train, arcene_df_test, arcene_df_valid], ignore_index=True)\n",
    "arcene_arr = arcene_df.values"
   ]
  },
  {
   "cell_type": "code",
   "execution_count": null,
   "metadata": {},
   "outputs": [],
   "source": [
    "# You will want to use this class to do PCA\n",
    "from sklearn.decomposition import PCA"
   ]
  },
  {
   "cell_type": "markdown",
   "metadata": {},
   "source": [
    "# Problem 2: Selecting _k_\n",
    "\n",
    "You will have to download the Anuran zip file yourself from\n",
    "https://archive.ics.uci.edu/ml/datasets/Anuran+Calls+%28MFCCs%29\n",
    "and update the path below to get the following code to work on your computer."
   ]
  },
  {
   "cell_type": "code",
   "execution_count": null,
   "metadata": {},
   "outputs": [],
   "source": [
    "# Data loading code to help you get started\n",
    "import pandas as pd\n",
    "\n",
    "# Update the path as necessary\n",
    "anuran_df = pd.read_csv('/Users/lukezhu/Downloads/Anuran Calls (MFCCs)/Frogs_MFCCs.csv')"
   ]
  },
  {
   "cell_type": "code",
   "execution_count": null,
   "metadata": {},
   "outputs": [],
   "source": [
    "%matplotlib inline # So your matplotlib graphs show up"
   ]
  },
  {
   "cell_type": "markdown",
   "metadata": {},
   "source": [
    "# Problem 3: Experimenting with Initialization Strategies"
   ]
  },
  {
   "cell_type": "code",
   "execution_count": null,
   "metadata": {},
   "outputs": [],
   "source": [
    "# Data loading code to help you get started\n",
    "import pandas as pd\n",
    "\n",
    "# Note that the last column is a \n",
    "sonar_df = pd.read_csv('https://archive.ics.uci.edu/ml/machine-learning-databases/'\n",
    "                       + 'undocumented/connectionist-bench/sonar/sonar.all-data',\n",
    "                       header=None)\n",
    "sonar_arr = sonar_df.values[:, 0:-1] # We remove the label column (rightmost)"
   ]
  },
  {
   "cell_type": "markdown",
   "metadata": {},
   "source": [
    "# Problem 4: Recognizing Initialization Strategies"
   ]
  },
  {
   "cell_type": "raw",
   "metadata": {},
   "source": [
    "# Put your answers here\n",
    "Image 1 (leftmost):\n",
    "Image 2:\n",
    "Image 3:\n",
    "Image 4:"
   ]
  },
  {
   "cell_type": "markdown",
   "metadata": {},
   "source": [
    "# Problem 5: Lloyd's Proof"
   ]
  },
  {
   "cell_type": "raw",
   "metadata": {},
   "source": [
    "# Your proof here"
   ]
  },
  {
   "cell_type": "markdown",
   "metadata": {},
   "source": [
    "# Bonus 1:"
   ]
  },
  {
   "cell_type": "code",
   "execution_count": null,
   "metadata": {},
   "outputs": [],
   "source": []
  },
  {
   "cell_type": "markdown",
   "metadata": {},
   "source": [
    "# Bonus 2:"
   ]
  },
  {
   "cell_type": "code",
   "execution_count": null,
   "metadata": {},
   "outputs": [],
   "source": []
  }
 ],
 "metadata": {
  "kernelspec": {
   "display_name": "Python 3",
   "language": "python",
   "name": "python3"
  },
  "language_info": {
   "codemirror_mode": {
    "name": "ipython",
    "version": 3
   },
   "file_extension": ".py",
   "mimetype": "text/x-python",
   "name": "python",
   "nbconvert_exporter": "python",
   "pygments_lexer": "ipython3",
   "version": "3.6.4"
  }
 },
 "nbformat": 4,
 "nbformat_minor": 2
}
